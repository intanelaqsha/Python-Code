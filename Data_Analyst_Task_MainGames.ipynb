{
  "nbformat": 4,
  "nbformat_minor": 0,
  "metadata": {
    "colab": {
      "provenance": [],
      "authorship_tag": "ABX9TyOKMtBQPmEDVDag6YccTRiT",
      "include_colab_link": true
    },
    "kernelspec": {
      "name": "python3",
      "display_name": "Python 3"
    },
    "language_info": {
      "name": "python"
    }
  },
  "cells": [
    {
      "cell_type": "markdown",
      "metadata": {
        "id": "view-in-github",
        "colab_type": "text"
      },
      "source": [
        "<a href=\"https://colab.research.google.com/github/intanelaqsha/intanelaqsha/blob/main/Data_Analyst_Task_MainGames.ipynb\" target=\"_parent\"><img src=\"https://colab.research.google.com/assets/colab-badge.svg\" alt=\"Open In Colab\"/></a>"
      ]
    },
    {
      "cell_type": "code",
      "execution_count": null,
      "metadata": {
        "id": "f0AKUGToZAGS"
      },
      "outputs": [],
      "source": [
        "import pandas as pd\n",
        "data= pd.read_csv('clips.csv')\n"
      ]
    },
    {
      "cell_type": "markdown",
      "source": [
        "### TASK NUMBER 1"
      ],
      "metadata": {
        "id": "l4LWBm-_tMux"
      }
    },
    {
      "cell_type": "code",
      "source": [
        "# Convert 'created_at' column to datetime type\n",
        "data['year_month'] = pd.to_datetime(data['created_at'])\n",
        "\n",
        "# Set 'year_month' column as the DataFrame index\n",
        "data.set_index('year_month', inplace=True)\n",
        "\n",
        "# Resample data with monthly frequency\n",
        "monthly_data = data.resample('M').agg({\n",
        "    'created_at': 'count',          # Total clips\n",
        "    'user_id': 'nunique',           # Total users (unique value)\n",
        "    'gamesession_Id': 'nunique'     # Total processed gamesession (unique value)\n",
        "})\n",
        "\n",
        "# Rename columns for clarity\n",
        "monthly_data.columns = ['Number of Clips', 'Number of Users', 'Number of Gamesession']\n",
        "\n",
        "# Convert the index to 'YYYY-MM' format (year-month) without the day\n",
        "monthly_data.index = monthly_data.index.strftime('%Y-%m')\n",
        "\n",
        "# Add 'year_month' column back to the DataFrame\n",
        "monthly_data['year_month'] = monthly_data.index\n",
        "\n",
        "# Reorder columns with 'year_month' as the first column\n",
        "monthly_data = monthly_data[['year_month', 'Number of Clips', 'Number of Users', 'Number of Gamesession']]\n",
        "\n",
        "# Display the result\n",
        "print(\"Clip Information, User, and Game Session per Month:\")\n",
        "print(monthly_data)\n",
        "\n",
        "# Save the DataFrame to Excel with 'year_month' included\n",
        "monthly_data.to_excel('TASK1.xlsx', index=False)\n"
      ],
      "metadata": {
        "colab": {
          "base_uri": "https://localhost:8080/"
        },
        "id": "D_VW1Q44czHI",
        "outputId": "5750def2-84dc-4c4d-edfa-600b8b7eb9eb"
      },
      "execution_count": null,
      "outputs": [
        {
          "output_type": "stream",
          "name": "stdout",
          "text": [
            "Clip Information, User, and Game Session per Month:\n",
            "           year_month  Number of Clips  Number of Users  Number of Gamesession\n",
            "year_month                                                                    \n",
            "2023-06       2023-06            81789             1093                   6080\n",
            "2023-07       2023-07            77776              978                   5518\n",
            "2023-08       2023-08            80231             1067                   5354\n",
            "2023-09       2023-09            87737             1210                   6152\n",
            "2023-10       2023-10            88862             1316                   5830\n",
            "2023-11       2023-11            82608             1199                   4810\n",
            "2023-12       2023-12            53028             1083                   3101\n"
          ]
        }
      ]
    },
    {
      "cell_type": "markdown",
      "source": [
        "### TASK 2"
      ],
      "metadata": {
        "id": "_nYyaoKauI6Q"
      }
    },
    {
      "cell_type": "code",
      "source": [
        "\n",
        "data['created_at'] = pd.to_datetime(data['created_at'])\n",
        "\n",
        "# Filter data for the last 3 months\n",
        "end_date = data['created_at'].max()\n",
        "start_date = end_date - pd.DateOffset(weeks=12)\n",
        "filtered_data = data.loc[(data['created_at'] >= start_date) & (data['created_at'] <= end_date)].copy()\n",
        "\n",
        "# Create a new 'week' column to determine the week from the 'created_at' date\n",
        "filtered_data['week'] = filtered_data['created_at'].dt.to_period('W')\n",
        "\n",
        "# Calculate the number of clips for each clip type each week\n",
        "weekly_clips_count = filtered_data.groupby(['week', 'clip_id']).size().unstack(fill_value=0)\n",
        "\n",
        "# Display the result\n",
        "print(\"Weekly Total Clips of Each Clip Type (Last 3 Months): \\n\", weekly_clips_count)\n",
        "\n",
        "# Add 'week' column back to the DataFrame\n",
        "weekly_clips_count['week'] = weekly_clips_count.index\n",
        "\n",
        "# Reorder columns with 'week' as the first column\n",
        "weekly_clips_count = weekly_clips_count[['week'] + list(weekly_clips_count.columns[:-1])]\n",
        "\n",
        "# Save the DataFrame to Excel with 'week' included\n",
        "weekly_clips_count.to_excel('TASK2.xlsx', index=False)\n"
      ],
      "metadata": {
        "colab": {
          "base_uri": "https://localhost:8080/"
        },
        "id": "JOLfnSiOGjXJ",
        "outputId": "8d5fcb10-7c83-40a1-9ffc-a49d71125ed8"
      },
      "execution_count": null,
      "outputs": [
        {
          "output_type": "stream",
          "name": "stdout",
          "text": [
            "Weekly Total Clips of Each Clip Type (Last 3 Months): \n",
            " clip_id                -1      1     2   3    5   6   7     8\n",
            "week                                                         \n",
            "2023-09-18/2023-09-24   0   1990    59   1    0   3   0     0\n",
            "2023-09-25/2023-10-01   0  22461   759  40  274  16   0     0\n",
            "2023-10-02/2023-10-08   0  21453   747  32  154   6   0     0\n",
            "2023-10-09/2023-10-15   0  21238   712  43  166  15   0     0\n",
            "2023-10-16/2023-10-22   0  18973   565  55  175  12   1    66\n",
            "2023-10-23/2023-10-29   0  15279   601  38  221   7   1   384\n",
            "2023-10-30/2023-11-05   0  14386   983  21  219   8   0   589\n",
            "2023-11-06/2023-11-12   0  15964   798  45  180  10   0   370\n",
            "2023-11-13/2023-11-19   0  20328   893  35  199  10   0   450\n",
            "2023-11-20/2023-11-26   0  19517  1018  34  154  13   3   238\n",
            "2023-11-27/2023-12-03   0  18524   829  24  168   5   1   313\n",
            "2023-12-04/2023-12-10   0  21426   767  55  239  16   3  2205\n",
            "2023-12-11/2023-12-17   1  17541   604  20  521   4   0   516\n"
          ]
        }
      ]
    },
    {
      "cell_type": "markdown",
      "source": [
        "### TASK 3"
      ],
      "metadata": {
        "id": "RTqsQ4jqMf_6"
      }
    },
    {
      "cell_type": "code",
      "source": [
        "#OPSIONAL\n",
        "# Menghitung jumlah jenis permainan dalam data\n",
        "jumlah_jenis_permainan = data['game_name'].nunique()\n",
        "\n",
        "# Menampilkan hasil\n",
        "print(\"Jumlah Jenis Permainan dalam Data:\", jumlah_jenis_permainan)\n"
      ],
      "metadata": {
        "colab": {
          "base_uri": "https://localhost:8080/"
        },
        "id": "d0THBeEoRkrt",
        "outputId": "f97c344c-16ea-4ab1-bb9a-4bc6f200983d"
      },
      "execution_count": null,
      "outputs": [
        {
          "output_type": "stream",
          "name": "stdout",
          "text": [
            "Jumlah Jenis Permainan dalam Data: 56\n"
          ]
        }
      ]
    },
    {
      "cell_type": "code",
      "source": [
        "# Group data by 'game_name' and 'event_name', then get the top 3 moments and their average duration\n",
        "top_moments = data.groupby(['game_name', 'event_name']).agg(\n",
        "    top_3_moments=('id', 'count'),  # Get the count of clips for each moment (top 3)\n",
        "    avg_duration=('duration', 'mean')  # Get the average duration for each moment\n",
        ").sort_values(by=['game_name', 'top_3_moments'], ascending=[True, False]).groupby('game_name').head(3)\n",
        "\n",
        "# Display the top 3 clip moments for each game and their average duration\n",
        "print(\"Top 3 Clip Moments and Average Duration for Each Game:\")\n",
        "print(top_moments)\n",
        "\n",
        "# determining the name of the file\n",
        "file_name = 'Top 3 Moments.xlsx'\n",
        "\n",
        "# saving the excel\n",
        "top_moments.to_excel(file_name)"
      ],
      "metadata": {
        "colab": {
          "base_uri": "https://localhost:8080/"
        },
        "id": "5mt810IPMiGO",
        "outputId": "ab5a85cf-f27f-4c1b-ab60-4e9018b70476"
      },
      "execution_count": null,
      "outputs": [
        {
          "output_type": "stream",
          "name": "stdout",
          "text": [
            "Top 3 Clip Moments and Average Duration for Each Game:\n",
            "                                 top_3_moments  avg_duration\n",
            "game_name    event_name                                     \n",
            "Among Us     completing task               165     29.000000\n",
            "             defeat                         62     28.483871\n",
            "             High Viewer                    10     59.000000\n",
            "Apex Legends Single kill                 18527     28.072867\n",
            "             Chain kill                   3965     39.821690\n",
            "...                                        ...           ...\n",
            "chatting     emotional-moment             3453     53.276281\n",
            "             voice-command                  47     79.574468\n",
            "starfield    mission-updated               616     29.000000\n",
            "             mission-rewards                42     29.000000\n",
            "             epic-item-acquired             26     29.000000\n",
            "\n",
            "[133 rows x 2 columns]\n"
          ]
        }
      ]
    },
    {
      "cell_type": "code",
      "source": [
        "# Replace missing values (NaN) in the 'event_name' column with an empty string\n",
        "data['event_name'] = data['event_name'].fillna('')\n",
        "\n",
        "# Create a new column 'contains_kill' to indicate if 'kill' is present in 'event_name'\n",
        "data['contains_kill'] = data['event_name'].str.contains('kill', case=False)\n",
        "\n",
        "# To calculate the total number of clips containing 'kill' in the event_name\n",
        "total_kills = data[data['contains_kill']]['created_at'].count()\n",
        "\n",
        "kill = data['contains_kill'],data['event_name']\n",
        "\n",
        "print(\"Total number of clips generated for moment that contain 'kill':\", total_kills)\n",
        "\n",
        "# Create a DataFrame from the tuple\n",
        "kill_df = pd.DataFrame({'contains_kill': kill[0], 'event_name': kill[1]})\n",
        "\n",
        "# Save the DataFrame to Excel\n",
        "kill_df.to_excel('kill_data.xlsx', index=False)\n",
        "\n",
        "\n"
      ],
      "metadata": {
        "colab": {
          "base_uri": "https://localhost:8080/"
        },
        "id": "a-02VQ3Lm0dn",
        "outputId": "727e1e8b-c117-47cd-c9a5-b32a547a2413"
      },
      "execution_count": null,
      "outputs": [
        {
          "output_type": "stream",
          "name": "stdout",
          "text": [
            "Total number of clips generated for moment that contain 'kill': 299175\n"
          ]
        },
        {
          "output_type": "stream",
          "name": "stderr",
          "text": [
            "Exception ignored in: <function ZipFile.__del__ at 0x78e65e72e200>\n",
            "Traceback (most recent call last):\n",
            "  File \"/usr/lib/python3.10/zipfile.py\", line 1821, in __del__\n",
            "    self.close()\n",
            "  File \"/usr/lib/python3.10/zipfile.py\", line 1838, in close\n",
            "    self.fp.seek(self.start_dir)\n",
            "ValueError: seek of closed file\n"
          ]
        }
      ]
    }
  ]
}